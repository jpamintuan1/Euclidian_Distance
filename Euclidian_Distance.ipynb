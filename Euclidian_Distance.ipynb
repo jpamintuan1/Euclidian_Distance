{
 "cells": [
  {
   "cell_type": "code",
   "execution_count": 1,
   "metadata": {},
   "outputs": [],
   "source": [
    "# imports \n",
    "import numpy as np\n",
    "# import matplotlib.pyplot as plt \n",
    "# %matplotlib inline\n",
    "\n",
    "from sklearn.metrics.pairwise import euclidean_distances\n",
    "\n",
    "import sys\n",
    "sys.path.append(\"..\")\n",
    "\n",
    "\n",
    "import timeit\n",
    "import matplotlib.mlab\n",
    "import scipy.stats\n",
    "from scipy.stats import norm"
   ]
  },
  {
   "cell_type": "code",
   "execution_count": 2,
   "metadata": {},
   "outputs": [],
   "source": [
    "def euclidean_distances_stats(euclidean_distances_vector):\n",
    "    \"\"\"\n",
    "    Calculate Euclidean distances statistics\n",
    "    \n",
    "    Arguments:\n",
    "    euclidean_distances_vector - 1-D vector of Euclidean distances\n",
    "    \n",
    "    Return:\n",
    "        np.array() of length 4\n",
    "        the first element of array is the mean\n",
    "        the second element is variance\n",
    "        the third element is skew of the distribution\n",
    "        the forth element is kurtusis of the distribution\n",
    "    \"\"\"\n",
    "    if len(euclidean_distances_vector) > 0:\n",
    "        this_mean = np.mean( euclidean_distances_vector )\n",
    "        this_variance = np.var( euclidean_distances_vector )\n",
    "        this_skewness = scipy.stats.skew( euclidean_distances_vector )    \n",
    "        this_kurtosis = scipy.stats.kurtosis( euclidean_distances_vector )\n",
    "        result = np.array([this_mean, this_variance, this_skewness, this_kurtosis])\n",
    "    else:\n",
    "        result = np.array([0.] * 4)\n",
    "    return result\n",
    "\n",
    "\n",
    "def print_stats(euclidean_stats):\n",
    "    \"\"\"\n",
    "    Print Euclidean distances statistics\n",
    "    \n",
    "    Arguments: \n",
    "    euclidean_stats - np.array() of length 4\n",
    "        the first element of array is the mean\n",
    "        the second element is variance\n",
    "        the third element is skew of the distribution\n",
    "        the forth element is kurtusis of the distribution\n",
    "    \"\"\"\n",
    "    this_mean = euclidean_stats[0]\n",
    "    this_variance = euclidean_stats[1]\n",
    "    this_skewness = euclidean_stats[2]\n",
    "    this_kurtosis = euclidean_stats[3]\n",
    "    print( 'Expectation of Euclidean distances: ', this_mean, '\\n' )\n",
    "    print( 'Variance of Euclidean distances: ', this_variance, '\\n' )\n",
    "    print( 'Skewness of Euclidean distances: ', this_skewness, '\\n' )\n",
    "    print( 'Kurtosis of Euclidean distances: ',this_kurtosis, '\\n' )\n",
    "\n",
    "def plot_distribution(euclidean_distances_vector, euclidean_stats, dim_space, bins_number=30):\n",
    "    \"\"\"\n",
    "    Plot histogram of Euclidean distances against normal distribution PDF\n",
    "    \n",
    "    Arguments: \n",
    "    \n",
    "    euclidean_distances_vector - 1-D vector of Euclidean distances\n",
    "    \n",
    "    euclidean_stats - np.array() of length 4\n",
    "        the first element of array is the mean\n",
    "        the second element is variance\n",
    "        the third element is skew of the distribution\n",
    "        the forth element is kurtusis of the distribution\n",
    "    \n",
    "    dim_space - dimension of the space\n",
    "    bins_number - number of bins in the histogram\n",
    "    \"\"\"\n",
    "    # verbose, but this is for clarity\n",
    "    this_mean = euclidean_stats[0]\n",
    "    this_variance = euclidean_stats[1]\n",
    "    this_skewness = euclidean_stats[2]\n",
    "    this_kurtosis = euclidean_stats[3]\n",
    "    \n",
    "    sample_size = len(euclidean_distances_vector)\n",
    "    try:\n",
    "        fig_l, ax_l = plt.subplots()\n",
    "        n_bins_l, bins_l, patches_l = ax_l.hist( euclidean_distances_vector, bins_number, normed=1 )  \n",
    "        y_l = matplotlib.mlab.normpdf( bins_l, this_mean, np.sqrt( this_variance ) )\n",
    "        ax_l.plot( bins_l, y_l, 'r--' )\n",
    "        plt.title( 'Histogram for dimension = %d and sample size = %d \\n $\\mu$ = %.3f, $\\sigma^2$ = %.3f, Skewness = %.3f, Kurtosis = %.3f' \\\n",
    "                                           % (dim_space, sample_size, this_mean, this_variance, this_skewness, this_kurtosis ) )\n",
    "        fig_l.tight_layout()\n",
    "        plt.grid( True, which='both')\n",
    "        plt.minorticks_on()\n",
    "        return fig_l\n",
    "    except:\n",
    "        return None"
   ]
  },
  {
   "cell_type": "code",
   "execution_count": 3,
   "metadata": {},
   "outputs": [
    {
     "name": "stdout",
     "output_type": "stream",
     "text": [
      "X:  [[0.09220363 0.85065196 0.90075012 0.59361319 0.84875299]\n",
      " [0.13300259 0.50209599 0.76796562 0.92047036 0.47544869]\n",
      " [0.72927521 0.8054414  0.4002669  0.01355402 0.31719426]\n",
      " ...\n",
      " [0.82071112 0.46084335 0.92036074 0.31746465 0.03535725]\n",
      " [0.21581585 0.12317179 0.42738517 0.35466096 0.93360429]\n",
      " [0.84577044 0.67545711 0.22706133 0.58893715 0.98216918]]\n",
      "Y:  [[0.32900813 0.34963352 0.52804383 0.38208285 0.03237214]\n",
      " [0.11760546 0.46402303 0.12260294 0.18876132 0.99071561]\n",
      " [0.49587495 0.18125864 0.61421199 0.29089588 0.71308158]\n",
      " ...\n",
      " [0.14440936 0.38925149 0.50634999 0.29421895 0.96282509]\n",
      " [0.15239208 0.4741476  0.84900715 0.70515312 0.22175127]\n",
      " [0.46490389 0.50546926 0.04574762 0.75900819 0.25636212]]\n"
     ]
    }
   ],
   "source": [
    "lower_boundary = 0\n",
    "upper_boundary = 1\n",
    "n = 5 # dimension\n",
    "sample_size = 10000\n",
    "\n",
    "np.random.seed(9001) # set the seed to yield reproducible results\n",
    "\n",
    "X = np.random.uniform( low=lower_boundary, high=upper_boundary, size=(sample_size, n) )\n",
    "Y = np.random.uniform( low=lower_boundary, high=upper_boundary, size=(sample_size, n) )\n",
    "\n",
    "print( 'X: ', X )\n",
    "print( 'Y: ', Y )"
   ]
  },
  {
   "cell_type": "code",
   "execution_count": 17,
   "metadata": {},
   "outputs": [
    {
     "name": "stdout",
     "output_type": "stream",
     "text": [
      "Running time:  1.0093605000001844\n"
     ]
    }
   ],
   "source": [
    "#Calculate the Euclidean distance between the two points of each pair. Do this in a loop. Hint: use sklearn to do the computation.\n",
    "start = timeit.default_timer()\n",
    "### START CODE HERE ### (≈ 4 lines of code)\n",
    "# implement a loop which computes Euclidean distances between each element in X and Y\n",
    "# store results in euclidean_distances_vector_l list\n",
    "euclidean_distances_vector_l = []\n",
    "# implement a loop which computes Euclidean distances between each element in X and Y\n",
    "# store results in euclidean_distances_vector_l list\n",
    "for index, x in enumerate(X):\n",
    "    euclidean_distances_vector_l.append(euclidean_distances(x.reshape(1, -1), Y[index].reshape(1, -1)))\n",
    "### END CODE HERE ###\n",
    "stop = timeit.default_timer()\n",
    "print( 'Running time: ', stop-start )"
   ]
  },
  {
   "cell_type": "code",
   "execution_count": 21,
   "metadata": {},
   "outputs": [
    {
     "name": "stdout",
     "output_type": "stream",
     "text": [
      "Expectation of Euclidean distances:  0.8766263266485177 \n",
      "\n",
      "Variance of Euclidean distances:  0.06098536516913438 \n",
      "\n",
      "Skewness of Euclidean distances:  [[-0.03504537]] \n",
      "\n",
      "Kurtosis of Euclidean distances:  [[-0.26237711]] \n",
      "\n"
     ]
    }
   ],
   "source": [
    "print_stats(result)\n",
    "plot_distribution(euclidean_distances_vector_l, result, n)\n",
    "try:\n",
    "    plt.show()\n",
    "except: pass"
   ]
  },
  {
   "cell_type": "code",
   "execution_count": null,
   "metadata": {},
   "outputs": [],
   "source": []
  },
  {
   "cell_type": "code",
   "execution_count": null,
   "metadata": {},
   "outputs": [],
   "source": []
  }
 ],
 "metadata": {
  "kernelspec": {
   "display_name": "Python 3",
   "language": "python",
   "name": "python3"
  },
  "language_info": {
   "codemirror_mode": {
    "name": "ipython",
    "version": 3
   },
   "file_extension": ".py",
   "mimetype": "text/x-python",
   "name": "python",
   "nbconvert_exporter": "python",
   "pygments_lexer": "ipython3",
   "version": "3.7.6"
  }
 },
 "nbformat": 4,
 "nbformat_minor": 4
}
